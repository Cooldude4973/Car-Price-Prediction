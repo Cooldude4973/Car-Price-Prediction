{
 "cells": [
  {
   "cell_type": "code",
   "execution_count": 238,
   "metadata": {},
   "outputs": [],
   "source": [
    "import pandas as pd\n",
    "\n",
    "data = pd.read_csv(r'dataset.csv')"
   ]
  },
  {
   "cell_type": "code",
   "execution_count": 239,
   "metadata": {},
   "outputs": [
    {
     "data": {
      "text/plain": [
       "(892, 6)"
      ]
     },
     "execution_count": 239,
     "metadata": {},
     "output_type": "execute_result"
    }
   ],
   "source": [
    "data.shape"
   ]
  },
  {
   "cell_type": "code",
   "execution_count": 240,
   "metadata": {},
   "outputs": [
    {
     "name": "stdout",
     "output_type": "stream",
     "text": [
      "name\n",
      "['Hyundai Santro Xing XO eRLX Euro III' 'Mahindra Jeep CL550 MDI'\n",
      " 'Maruti Suzuki Alto 800 Vxi' 'Hyundai Grand i10 Magna 1.2 Kappa VTVT'\n",
      " 'Ford EcoSport Titanium 1.5L TDCi' 'Ford Figo' 'Hyundai Eon'\n",
      " 'Ford EcoSport Ambiente 1.5L TDCi' 'Maruti Suzuki Alto K10 VXi AMT'\n",
      " 'Skoda Fabia Classic 1.2 MPI' 'Maruti Suzuki Stingray VXi'\n",
      " 'Hyundai Elite i20 Magna 1.2' 'Mahindra Scorpio SLE BS IV' 'Audi A8'\n",
      " 'Audi Q7' 'Mahindra Scorpio S10' 'Maruti Suzuki Alto 800'\n",
      " 'Hyundai i20 Sportz 1.2' 'Maruti Suzuki Alto 800 Lx'\n",
      " 'Maruti Suzuki Vitara Brezza ZDi' 'Maruti Suzuki Alto LX'\n",
      " 'Mahindra Bolero DI' 'Maruti Suzuki Swift Dzire ZDi'\n",
      " 'Mahindra Scorpio S10 4WD' 'Maruti Suzuki Swift Vdi BSIII'\n",
      " 'Maruti Suzuki Wagon R VXi BS III' 'Maruti Suzuki Wagon R VXi Minor'\n",
      " 'Toyota Innova 2.0 G 8 STR BS IV' 'Renault Lodgy 85 PS RXL'\n",
      " 'Skoda Yeti Ambition 2.0 TDI CR 4x2' 'Maruti Suzuki Baleno Delta 1.2'\n",
      " 'Renault Duster 110 PS RxZ Diesel Plus' 'Renault Duster 85 PS RxE Diesel'\n",
      " 'Honda City 1.5 S MT' 'Maruti Suzuki Dzire' 'Honda Amaze'\n",
      " 'Honda Amaze 1.5 SX i DTEC' 'Honda City' 'Datsun Redi GO S'\n",
      " 'Maruti Suzuki SX4 ZXI MT' 'Mitsubishi Pajero Sport Limited Edition'\n",
      " 'Maruti Suzuki Swift VXi 1.2 ABS BS IV' 'Honda City ZX CVT'\n",
      " 'Maruti Suzuki Wagon R LX BS IV' 'Tata Indigo eCS LS CR4 BS IV'\n",
      " 'Volkswagen Polo Highline Exquisite P' 'I want to sell my car Tata Zest'\n",
      " 'Chevrolet Spark LS 1.0' 'Renault Duster 110PS Diesel RxZ'\n",
      " 'Mini Cooper S 1.6' 'Skoda Fabia 1.2L Diesel Ambiente' 'Renault Duster'\n",
      " 'Mahindra Scorpio S4' 'Mahindra Scorpio VLX 2WD BS IV'\n",
      " 'Mahindra Quanto C8' 'Ford EcoSport' 'Honda Brio'\n",
      " 'Volkswagen Vento Highline Plus 1.5 Diesel AT' 'Hyundai i20 Magna'\n",
      " 'Toyota Corolla Altis Diesel D4DG' 'Hyundai Verna Transform SX VTVT'\n",
      " 'Toyota Corolla Altis Petrol Ltd' 'Honda City 1.5 EXi New'\n",
      " 'Skoda Fabia 1.2L Diesel Elegance' 'BMW 3 Series 320i'\n",
      " 'Maruti Suzuki A Star Lxi' 'Toyota Etios GD'\n",
      " 'Ford Figo Diesel EXI Option' 'Maruti Suzuki Swift Dzire VXi 1.2 BS IV'\n",
      " 'Chevrolet Beat LT Diesel' 'BMW 7 Series 740Li Sedan'\n",
      " 'Mahindra XUV500 W8 AWD 2013' 'Hyundai i10 Magna 1.2'\n",
      " 'Hyundai Verna Fluidic New' 'Maruti Suzuki Swift VXi 1.2 BS IV'\n",
      " 'Maruti Suzuki Ertiga ZXI Plus' 'Maruti Suzuki Ertiga Vxi'\n",
      " 'Maruti Suzuki Ertiga VDi' 'Maruti Suzuki Alto LXi BS III'\n",
      " 'Hyundai Grand i10 Asta 1.1 CRDi' 'Honda Amaze 1.2 S i VTEC'\n",
      " 'Hyundai i20 Asta 1.4 CRDI 6 Speed' 'Ford Figo Diesel EXI'\n",
      " 'Maruti Suzuki Eeco 5 STR WITH AC HTR' 'Maruti Suzuki Ertiga ZXi'\n",
      " 'Maruti Suzuki Esteem LXi BS III' 'Maruti Suzuki Ritz VXI'\n",
      " 'Maruti Suzuki Ritz LDi' 'Maruti Suzuki Dzire VDI' 'Toyota Etios Liva G'\n",
      " 'Hyundai i20 Sportz 1.4 CRDI' 'Chevrolet Spark' 'Nissan Micra XV'\n",
      " 'Maruti Suzuki Swift' 'Honda Amaze 1.5 S i DTEC' 'Chevrolet Beat'\n",
      " 'Toyota Corolla' 'Honda City 1.5 V MT' 'Ford EcoSport Trend 1.5L TDCi'\n",
      " 'Hyundai i20 Asta 1.2' 'Tata Indica V2 eLS' 'Maruti Suzuki Alto 800 Lxi'\n",
      " 'Hindustan Motors Ambassador' 'Toyota Corolla Altis 1.8 GL'\n",
      " 'Toyota Corolla Altis 1.8 J' 'Toyota Innova 2.5 GX BS IV 7 STR'\n",
      " 'Volkswagen Jetta Highline TDI AT' 'Volkswagen Polo Comfortline 1.2L P'\n",
      " 'Volkswagen Polo' 'Mahindra Scorpio' 'Nissan Sunny' 'Hyundai Elite i20'\n",
      " 'Renault Kwid' 'Mahindra Scorpio VLX Airbag' 'Chevrolet Spark LT 1.0'\n",
      " 'Datsun Redi GO T O' 'Maruti Suzuki Swift RS VDI'\n",
      " 'Fiat Punto Emotion 1.2' 'Hyundai i10 Sportz 1.2'\n",
      " 'Chevrolet Beat LT Opt Diesel' 'Chevrolet Beat LS Diesel'\n",
      " 'Tata Indigo CS' 'Maruti Suzuki Swift VDi' 'Hyundai Eon Era Plus'\n",
      " 'Mahindra XUV500' 'Ford Fiesta' 'Maruti Suzuki Wagon R' 'Hyundai i20'\n",
      " 'Tata Indigo eCS LX TDI BS III' 'Hyundai Fluidic Verna 1.6 CRDi SX'\n",
      " 'Commercial , DZire LDI, 2016, for sale' 'Fiat Petra ELX 1.2 PS'\n",
      " 'Hyundai Santro Xing XS' 'Maruti Suzuki Ciaz VXi Plus'\n",
      " 'Maruti Suzuki Zen VX' 'Hyundai Creta 1.6 SX Plus Petrol'\n",
      " 'Tata indigo ecs LX, 201' 'Mahindra Scorpio SLX'\n",
      " 'Toyota Innova 2.5 G BS III 8 STR' 'Maruti Suzuki Wagon R LXI BS IV'\n",
      " 'Tata Nano Cx BSIV' 'Maruti Suzuki Alto Std BS IV'\n",
      " 'Maruti Suzuki Wagon R LXi BS III' 'Maruti Suzuki Swift VXI BSIII'\n",
      " 'Tata Sumo Victa EX 10 by 7 Str BSIII' 'MARUTI SUZUKI DESI'\n",
      " 'Volkswagen Passat Diesel Comfortline AT'\n",
      " 'Renault Scala RxL Diesel Travelogue'\n",
      " 'Hyundai Grand i10 Sportz O 1.2 Kappa VTVT' 'Hyundai i20 Active 1.2 SX'\n",
      " 'Mahindra Xylo E4' 'Mahindra Jeep MM 550 XDB' 'Mahindra Bolero SLE BS IV'\n",
      " 'Force Motors Force One LX ABS 7 STR' 'Maruti Suzuki SX4' 'Toyota Etios'\n",
      " 'Honda City ZX VTEC' 'Maruti Suzuki Wagon R LX BS III'\n",
      " 'Honda City VX O MT Diesel' 'Mahindra Thar CRDe 4x4 AC'\n",
      " 'Audi A4 1.8 TFSI Multitronic Premium Plus'\n",
      " 'Mercedes Benz GLA Class 200 CDI Sport' 'Land Rover Freelander 2 SE'\n",
      " 'Renault Kwid RXT' 'Tata Aria Pleasure 4X2'\n",
      " 'Mercedes Benz B Class B180 Sports' 'Datsun GO T O' 'Honda Jazz VX MT'\n",
      " 'Hyundai i20 Active 1.4L SX O' 'Mini Cooper S'\n",
      " 'Maruti Suzuki Ciaz ZXI Plus' 'Chevrolet Tavera Neo' 'Hyundai Eon Sportz'\n",
      " 'Tata Sumo Gold Select Variant' 'Maruti Suzuki Wagon R 1.0'\n",
      " 'Maruti Suzuki Esteem VXi BS III' 'Chevrolet Enjoy 1.4 LS 8 STR'\n",
      " 'Maruti Suzuki Wagon R 1.0 VXi' 'Nissan Terrano XL D Plus'\n",
      " 'Renault Duster 85 PS RxL Diesel' 'Maruti Suzuki Dzire ZXI'\n",
      " 'Renault Kwid RXT Opt' 'Maruti Suzuki Maruti 800 Std'\n",
      " 'Renault Kwid 1.0 RXT AMT' 'Renault Scala RxL Diesel'\n",
      " 'Hyundai Grand i10 Asta 1.2 Kappa VTVT O' 'Chevrolet Beat LS Petrol'\n",
      " 'Hyundai Accent GLX' 'Yama' 'Maruti Suzuki Swift LDi'\n",
      " 'Mahindra TUV300 T4 Plus' 'Tata Indica V2 Xeta e GLE'\n",
      " 'Tata Indigo CS LS DiCOR' 'Mahindra Scorpio VLX Special Edition BS III'\n",
      " 'Tata Indica eV2 LS' 'Honda Accord' 'Ford EcoSport Titanium 1.5 TDCi'\n",
      " 'Maruti Suzuki Ertiga' 'Mahindra Scorpio 2.6 CRDe' 'Honda Mobilio'\n",
      " 'Toyota Corolla Altis' 'Skoda Laura' 'Hyundai Verna Fluidic'\n",
      " 'Maruti Suzuki Vitara Brezza' 'Tata Manza Aura Quadrajet'\n",
      " 'Chevrolet Sail UVA Petrol LT ABS' 'Hyundai Verna Fluidic 1.6 VTVT SX'\n",
      " 'Audi A4 2.0 TDI 177bhp Premium' 'Hyundai Elantra SX'\n",
      " 'Mahindra Scorpio VLX 4WD Airbag' 'Mahindra KUV100 K8 D 6 STR'\n",
      " 'Hyundai Grand i10' 'Hyundai i10' 'Hyundai i20 Active' 'Datsun Redi GO'\n",
      " 'Toyota Etios Liva' 'Hyundai Accent' 'Hyundai Verna' 'Toyota Fortuner'\n",
      " 'Hyundai i10 Sportz' 'Mahindra Bolero Power Plus SLE' 'selling car Ta'\n",
      " 'Honda City 1.5 V MT Exclusive' 'Chevrolet Spark LT 1.0 Airbag'\n",
      " 'Tata Indigo eCS VX CR4 BS IV' 'Tata Zest 90'\n",
      " 'Skoda Rapid Elegance 1.6 TDI CR MT' 'Tata Vista Quadrajet VX'\n",
      " 'Maruti Suzuki Alto K10 VXi AT' 'Maruti Suzuki Zen LXi BS III'\n",
      " 'Maruti Suzuki Swift Dzire Tour LDi' 'Honda City ZX EXi'\n",
      " 'Chevrolet Beat Diesel' 'Maruti Suzuki Swift Dzire car'\n",
      " 'Hyundai Verna 1.4 VTVT' 'Toyota Innova 2.5 E MS 7 STR BS IV'\n",
      " 'Maruti Suzuki Maruti 800 Std – Befo' 'Hyundai Elite i20 Asta 1.4 CRDI'\n",
      " 'Maruti Suzuki Swift Dzire Tour (Gat'\n",
      " 'Maruti Suzuki Versa DX2 8 SEATER BSIII' 'Tata Indigo LX TDI BS III'\n",
      " 'Volkswagen Vento Konekt Diesel Highline'\n",
      " 'Mercedes Benz C Class 200 CDI Classic' 'URJE' 'Hyundai Santro Xing GLS'\n",
      " 'Maruti Suzuki Omni Limited Edition'\n",
      " 'Hyundai Sonata Transform 2.4 GDi MT' 'Hyundai Elite i20 Sportz 1.2'\n",
      " 'Honda Jazz S MT' 'Hyundai Grand i10 Sportz 1.2 Kappa VTVT'\n",
      " 'Maruti Suzuki Zen LXi BSII' 'Mahindra Scorpio W Turbo 2.6DX 9 Seater'\n",
      " 'Swift Dzire Tour 27 Dec 2016 Regis' 'Maruti Suzuki Alto K10 VXi'\n",
      " 'Hyundai Grand i10 Asta 1.2 Kappa VTVT' 'Mahindra XUV500 W8'\n",
      " 'Hyundai i20 Magna O 1.2' 'Renault Duster 85 PS RxL Explore LE'\n",
      " 'Honda Brio V MT' 'Mahindra TUV300 T8' 'Nissan X Trail Select Variant'\n",
      " 'Ford Ikon 1.3 CLXi NXt Finesse' 'Toyota Fortuner 3.0 4x4 MT'\n",
      " 'Tata Manza ELAN Quadrajet' 'Tata zest x' 'Mahindra xyl'\n",
      " 'Mercedes Benz A Class A 180 Sport Petrol' 'Tata Indigo LS'\n",
      " 'Hyundai i20 Magna 1.2' 'Used Commercial Maruti Omn'\n",
      " 'Honda Amaze 1.5 E i DTEC' 'Hyundai Verna 1.6 EX VTVT'\n",
      " 'BMW 5 Series 520d Sedan' 'Skoda Superb 1.8 TFSI AT'\n",
      " 'Audi Q3 2.0 TDI quattro Premium' 'Mahindra Bolero DI BSII'\n",
      " 'Maruti Suzuki Zen Estilo LXI Green CNG'\n",
      " 'Ford Figo Duratorq Diesel Titanium 1.4'\n",
      " 'Maruti Suzuki Wagon R VXI BS IV' 'Mahindra Logan Diesel 1.5 DLS'\n",
      " 'Tata Nano GenX XMA' 'Honda City SV' 'Ford Figo Petrol LXI'\n",
      " 'Hyundai i10 Magna 1.2 Kappa2' 'Toyota Corolla H2'\n",
      " 'Maruti Suzuki Swift Dzire Tour VXi' 'Tata Indigo CS eLS BS IV'\n",
      " 'Hyundai Xcent Base 1.1 CRDi' 'Hyundai Accent Executive Edition'\n",
      " 'Tata Zest XE 75 PS Diesel' 'Maruti Suzuki Dzire LDI'\n",
      " 'Tata Sumo Gold LX BS IV' 'Toyota Corolla Altis GL Petrol'\n",
      " 'Maruti Suzuki Eeco 7 STR' 'Toyota Fortuner 3.0 4x2 MT'\n",
      " 'Mahindra XUV500 W6' 'Tata Tigor Revotron XZ' 'Maruti Suzuki 800'\n",
      " 'Honda Mobilio S i DTEC' 'Hyundai Verna 1.6 CRDI E'\n",
      " 'Maruti Suzuki Omni Select Variant' 'Tata Indica' 'Hyundai Santro Xing'\n",
      " 'Maruti Suzuki Zen Estilo' 'Honda Brio VX AT'\n",
      " 'Maruti Suzuki Wagon R Select Variant' 'Tata Nano Lx BSIV'\n",
      " 'Jaguar XE XE Portfolio' 'Hyundai Xcent S 1.2' 'Hyundai Eon Magna Plus'\n",
      " 'Maruti Suzuki Ritz GENUS VXI'\n",
      " 'Hyundai Grand i10 Magna AT 1.2 Kappa VTVT' 'Hyundai Eon D Lite Plus'\n",
      " 'Honda Amaze 1.2 VX i VTEC' 'Maruti Suzuki Estilo VXi ABS BS IV'\n",
      " 'Maruti Suzuki Vitara Brezza LDi O' 'Toyota Innova 2.0 V'\n",
      " 'Hyundai Creta 1.6 SX Plus Petrol AT' 'Mahindra Scorpio Vlx BSIV'\n",
      " 'Mitsubishi Lancer 1.8 LXi' 'Maruti Suzuki Maruti 800 AC'\n",
      " 'Maruti Suzuki Alto 800 LXI CNG O' 'Ford Fiesta SXi 1.6 ABS'\n",
      " 'Maruti Suzuki Ritz VDi' 'Maruti Suzuki Estilo LX BS IV'\n",
      " 'Audi A6 2.0 TDI Premium' 'Maruti Suzuki Alto'\n",
      " 'Maruti Suzuki Baleno Sigma 1.2' 'Hyundai Verna 1.6 SX VTVT AT'\n",
      " 'Maruti Suzuki Swift GLAM' 'Hyundai Getz Prime 1.3 GVS' 'Hyundai Santro'\n",
      " 'Hyundai Getz Prime 1.3 GLX' 'Chevrolet Beat PS Diesel'\n",
      " 'Ford EcoSport Trend 1.5 Ti VCT' 'Tata Indica V2 DLG'\n",
      " 'BMW X1 xDrive20d xLine' 'Honda City 1.5 V AT' 'Tata Nano'\n",
      " 'Chevrolet Cruze LTZ AT' 'Hyun' 'Maruti Suzuki Swift Dzire VDi'\n",
      " 'Mahindra XUV500 W10' 'Maruti Suzuki Alto K10 LXi CNG'\n",
      " 'Hyundai Accent GLE' 'Force Motors One SUV' 'Datsun Go Plus T O'\n",
      " 'Chevrolet Spark 1.0 LT' 'Toyota Etios Liva GD'\n",
      " 'Renault Duster 85PS Diesel RxL Optional with Nav' 'Chevrolet Enjoy'\n",
      " 'BMW 5 Series 530i' 'Chevrolet Cruze LTZ'\n",
      " 'Jeep Wrangler Unlimited 4x4 Diesel' 'Hyundai Verna VGT CRDi SX ABS'\n",
      " 'Maruti Suzuki Omni' 'Maruti Suzuki Celerio VDi'\n",
      " 'Tata Zest Quadrajet 1.3' 'Tata Indigo CS eLX BS IV' 'Hyundai i10 Era'\n",
      " 'Tata Indigo eCS LX CR4 BS IV' 'Tata Indigo Marina LS'\n",
      " 'Commercial Chevrolet Sail Hatchback ca' 'Hyundai Xcent SX 1.2'\n",
      " 'Tata Nano LX Special Edition' 'Commercial Car Ta'\n",
      " 'Renault Duster 110 PS RxZ Diesel' 'Maruti Suzuki Wagon R AX BSIV'\n",
      " 'Maruti Suzuki Alto K10 New' 'tata Indica' 'Mahindra Xylo E8'\n",
      " 'Tata Manza Aqua Quadrajet' 'Used bt new conditions ta'\n",
      " 'Renault Kwid 1.0' 'Sale tata' 'Tata Venture EX 8 STR'\n",
      " 'Maruti Suzuki Swift Dzire Tour LXi' 'Maruti Suzuki Alto LX BSII'\n",
      " 'Skoda Octavia Classic 1.9 TDI MT' 'Maruti Suzuki Omni LPG BS IV'\n",
      " 'Tata Sumo Gold EX BS IV' 'Tata indigo 2017 top model..'\n",
      " 'Hyundai Verna 1.6 CRDI SX' 'Mahindra Scorpio SLX 2.6 Turbo 8 Str'\n",
      " 'Ford Ikon 1.6 Nxt' 'Tata indigo' 'Toyota Innova 2.5 V 7 STR'\n",
      " 'Nissan Sunny XL' 'Maruti Suzuki Swift VDi BS IV'\n",
      " 'very good condition tata bolts are av' 'Toyota Innova 2.0 G4'\n",
      " 'Sale Hyundai xcent commerc' 'Maruti Suzuki Swift VDi ABS'\n",
      " 'Hyundai Elite i20 Asta 1.2' 'Volkswagen Polo Trendline 1.5L D'\n",
      " 'Toyota Etios Liva Diesel' 'Maruti Suzuki Ciaz ZXi Plus RS'\n",
      " 'Hyundai Elantra 1.8 S' 'Ford EcoSport Trend 1.5L Ti VCT'\n",
      " 'Jaguar XF 2.2 Diesel Luxury' 'Audi Q5 2.0 TDI quattro Premium Plus'\n",
      " 'BMW 3 Series 320d Sedan' 'Maruti Suzuki Swift ZXi 1.2 BS IV'\n",
      " 'BMW X1 sDrive20d' 'Maruti Suzuki S Cross Sigma 1.3'\n",
      " 'Maruti Suzuki Ertiga LDi' 'Volkswagen Vento Comfortline Petrol'\n",
      " 'Mahindra KUV100' 'Maruti Suzuki Swift Dzire Tour VDi'\n",
      " 'Mahindra Scorpio 2.6 SLX' 'Maruti Suzuki Omni 8 STR BS III'\n",
      " 'Volkswagen Jetta Comfortline 1.9 TDI AT' 'Volvo S80 Summum D4'\n",
      " 'Toyota Corolla Altis VL AT Petrol' 'Mitsubishi Pajero Sport 2.5 AT'\n",
      " 'Chevrolet Beat LT Petrol' 'BMW X1'\n",
      " 'Mercedes Benz C Class C 220 CDI Avantgarde'\n",
      " 'Volkswagen Vento Comfortline Diesel' 'Tata Indigo CS GLS'\n",
      " 'Ford Figo Petrol Titanium' 'Honda City ZX GXi'\n",
      " 'Maruti Suzuki Wagon R Duo Lxi' 'Maruti Suzuki Zen LX BSII'\n",
      " 'Renault Duster RxL Petrol' 'Maruti Suzuki Baleno Zeta 1.2'\n",
      " 'Honda WR V S MT Petrol' 'Renault Duster 110 PS RxL Diesel'\n",
      " 'Mahindra Scorpio LX BS III' 'Maruti Suzuki SX4 Celebration Diesel'\n",
      " 'Audi A3 Cabriolet 40 TFSI' 'I want to sell my commercial car due t'\n",
      " 'Hyundai Santro AE GLS Audio' 'i want sale my car.no emi....uber atta'\n",
      " 'Tata ZEST 6 month old' 'Mahindra Xylo D2 BS IV' 'Hyundai Getz GLE'\n",
      " 'Hyundai Creta 1.6 SX' 'Hyundai Santro Xing XL AT eRLX Euro III'\n",
      " 'Hyundai Santro Xing XL eRLX Euro III' 'Tata Indica V2 DLS BS III'\n",
      " 'Honda City 1.5 E MT' 'Nissan Micra XL' 'Honda City 1.5 S Inspire'\n",
      " 'Tata Indica eV2 eXeta eGLX' 'Maruti Suzuki Omni E 8 STR BS IV'\n",
      " 'MARUTI SUZUKI ERTIGA F' 'Hyundai Verna 1.6 CRDI SX Plus AT'\n",
      " 'Chevrolet Tavera LS B3 10 Seats BSII' 'Tata Tiago Revotron XM'\n",
      " 'Tata Tiago Revotorq XZ' 'Tata Nexon' 'Tata'\n",
      " 'Hindustan Motors Ambassador Classic Mark 4 – Befo'\n",
      " 'Ford Fusion 1.4 TDCi Diesel' 'Fiat Linea Emotion 1.4 L T Jet Petrol'\n",
      " 'Ford Ikon 1.3 Flair Josh 100' 'Tata Indica V2 LS' 'Mahindra Xylo D2'\n",
      " 'Hyundai Eon Magna' 'Tata Sumo Grande MKII GX'\n",
      " 'Volkswagen Polo Highline1.2L P' 'Tata Tiago Revotron XZ'\n",
      " 'Tata Indigo eCS' '2012 Tata Sumo Gold f' 'Mahindra Xylo E8 BS IV'\n",
      " 'Well mentained Tata Sumo' 'all paper updated tata indica v2 and u'\n",
      " 'Maruti Ertiga showroom condition with'\n",
      " '7 SEATER MAHINDRA BOLERO IN VERY GOOD' '9 SEATER MAHINDRA BOL'\n",
      " 'scratch less Tata I' 'Maruti Suzuki swift dzire for sale in'\n",
      " 'Commercial Chevrolet beat for sale in' 'urgent sell my Mahindra qu'\n",
      " 'Tata Sumo Gold FX BSIII' 'sell my car Maruti Suzuki Swif'\n",
      " 'Maruti Suzuki Swift Dzire good car fo' 'Hyunda'\n",
      " 'Commercial Maruti Suzuki Alto Lxi 800' 'urgent sale Ta'\n",
      " 'Maruti Suzuki Alto vxi t' 'tata' 'TATA INDI' 'Hyundai Creta'\n",
      " 'Tata Bolt XM Petrol' 'Hyundai Venue' 'Maruti Suzuki Ritz'\n",
      " 'Renault Lodgy' 'Hyundai i20 Asta' 'Maruti Suzuki Swift Select Variant'\n",
      " 'Tata Indica V2 DLX BS III' 'Mahindra Scorpio VLX 2.2 mHawk Airbag BSIV'\n",
      " 'Toyota Innova 2.5 E 8 STR' 'Mahindra KUV100 K8 6 STR' 'Datsun Go Plus'\n",
      " 'Ford Endeavor 4x4 Thunder Plus' 'Tata Indica V2'\n",
      " 'Hyundai Santro Xing GL' 'Toyota Innova 2.5 Z Diesel 7 Seater'\n",
      " 'Any type car avaiabel hare...comercica' 'Maruti Suzuki Alto AX'\n",
      " 'Mahindra Logan' 'Maruti Suzuki 800 Std BS III' 'Chevrolet Sail 1.2 LS'\n",
      " 'Volkswagen Vento Highline Plus 1.5 Diesel' 'Tata Manza'\n",
      " 'Toyota Innova 2.0 G1 Petrol 8seater' 'Toyota Etios G' 'Toyota Qualis'\n",
      " 'Mahindra Quanto C4' 'Maruti Suzuki Swift Dzire'\n",
      " 'Hyundai i20 Select Variant' 'Honda City VX Petrol' 'Hyundai Getz'\n",
      " 'Mercedes Benz C Class 200 K MT' 'Skoda Fabia'\n",
      " 'Maruti Suzuki Alto 800 Select Variant' 'Maruti Suzuki Ritz VXI ABS'\n",
      " 'tata zest 2017 f' 'Tata Indica V2 DLE BS III' 'Ta' 'Tata Zest XM Diesel'\n",
      " 'Honda Amaze 1.2 E i VTEC' 'Chevrolet Sail 1.2 LT ABS']\n",
      "company\n",
      "['Hyundai' 'Mahindra' 'Maruti' 'Ford' 'Skoda' 'Audi' 'Toyota' 'Renault'\n",
      " 'Honda' 'Datsun' 'Mitsubishi' 'Tata' 'Volkswagen' 'I' 'Chevrolet' 'Mini'\n",
      " 'BMW' 'Nissan' 'Hindustan' 'Fiat' 'Commercial' 'MARUTI' 'Force'\n",
      " 'Mercedes' 'Land' 'Yamaha' 'selling' 'URJENT' 'Swift' 'Used' 'Jaguar'\n",
      " 'Jeep' 'tata' 'Sale' 'very' 'Volvo' 'i' '2012' 'Well' 'all' '7' '9'\n",
      " 'scratch' 'urgent' 'sell' 'TATA' 'Any' 'Tara']\n",
      "year\n",
      "['2007' '2006' '2018' '2014' '2015' '2012' '2013' '2016' '2010' '2017'\n",
      " '2008' '2011' '2019' '2009' '2005' '2000' '...' '150k' 'TOUR' '2003'\n",
      " 'r 15' '2004' 'Zest' '/-Rs' 'sale' '1995' 'ara)' '2002' 'SELL' '2001'\n",
      " 'tion' 'odel' '2 bs' 'arry' 'Eon' 'o...' 'ture' 'emi' 'car' 'able' 'no.'\n",
      " 'd...' 'SALE' 'digo' 'sell' 'd Ex' 'n...' 'e...' 'D...' ', Ac' 'go .'\n",
      " 'k...' 'o c4' 'zire' 'cent' 'Sumo' 'cab' 't xe' 'EV2' 'r...' 'zest']\n",
      "Price\n",
      "['80,000' '4,25,000' 'Ask For Price' '3,25,000' '5,75,000' '1,75,000'\n",
      " '1,90,000' '8,30,000' '2,50,000' '1,82,000' '3,15,000' '4,15,000'\n",
      " '3,20,000' '10,00,000' '5,00,000' '3,50,000' '1,60,000' '3,10,000'\n",
      " '75,000' '1,00,000' '2,90,000' '95,000' '1,80,000' '3,85,000' '1,05,000'\n",
      " '6,50,000' '6,89,999' '4,48,000' '5,49,000' '5,01,000' '4,89,999'\n",
      " '2,80,000' '3,49,999' '2,84,999' '3,45,000' '4,99,999' '2,35,000'\n",
      " '2,49,999' '14,75,000' '3,95,000' '2,20,000' '1,70,000' '85,000'\n",
      " '2,00,000' '5,70,000' '1,10,000' '4,48,999' '18,91,111' '1,59,500'\n",
      " '3,44,999' '4,49,999' '8,65,000' '6,99,000' '3,75,000' '2,24,999'\n",
      " '12,00,000' '1,95,000' '3,51,000' '2,40,000' '90,000' '1,55,000'\n",
      " '6,00,000' '1,89,500' '2,10,000' '3,90,000' '1,35,000' '16,00,000'\n",
      " '7,01,000' '2,65,000' '5,25,000' '3,72,000' '6,35,000' '5,50,000'\n",
      " '4,85,000' '3,29,500' '2,51,111' '5,69,999' '69,999' '2,99,999'\n",
      " '3,99,999' '4,50,000' '2,70,000' '1,58,400' '1,79,000' '1,25,000'\n",
      " '2,99,000' '1,50,000' '2,75,000' '2,85,000' '3,40,000' '70,000'\n",
      " '2,89,999' '8,49,999' '7,49,999' '2,74,999' '9,84,999' '5,99,999'\n",
      " '2,44,999' '4,74,999' '2,45,000' '1,69,500' '3,70,000' '1,68,000'\n",
      " '1,45,000' '98,500' '2,09,000' '1,85,000' '9,00,000' '6,99,999'\n",
      " '1,99,999' '5,44,999' '1,99,000' '5,40,000' '49,000' '7,00,000' '55,000'\n",
      " '8,95,000' '3,55,000' '5,65,000' '3,65,000' '40,000' '4,00,000'\n",
      " '3,30,000' '5,80,000' '3,79,000' '2,19,000' '5,19,000' '7,30,000'\n",
      " '20,00,000' '21,00,000' '14,00,000' '3,11,000' '8,55,000' '5,35,000'\n",
      " '1,78,000' '3,00,000' '2,55,000' '5,49,999' '3,80,000' '57,000'\n",
      " '4,10,000' '2,25,000' '1,20,000' '59,000' '5,99,000' '6,75,000' '72,500'\n",
      " '6,10,000' '2,30,000' '5,20,000' '5,24,999' '4,24,999' '6,44,999'\n",
      " '5,84,999' '7,99,999' '4,44,999' '6,49,999' '9,44,999' '5,74,999'\n",
      " '3,74,999' '1,30,000' '4,01,000' '13,50,000' '1,74,999' '2,39,999'\n",
      " '99,999' '3,24,999' '10,74,999' '11,30,000' '1,49,000' '7,70,000'\n",
      " '30,000' '3,35,000' '3,99,000' '65,000' '1,69,999' '1,65,000' '5,60,000'\n",
      " '9,50,000' '7,15,000' '45,000' '9,40,000' '1,55,555' '15,00,000'\n",
      " '4,95,000' '8,00,000' '12,99,000' '5,30,000' '14,99,000' '32,000'\n",
      " '4,05,000' '7,60,000' '7,50,000' '4,19,000' '1,40,000' '15,40,000'\n",
      " '1,23,000' '4,98,000' '4,80,000' '4,88,000' '15,25,000' '5,48,900'\n",
      " '7,25,000' '99,000' '52,000' '28,00,000' '4,99,000' '3,81,000' '2,78,000'\n",
      " '6,90,000' '2,60,000' '90,001' '1,15,000' '15,99,000' '1,59,000' '51,999'\n",
      " '2,15,000' '35,000' '11,50,000' '2,69,000' '60,000' '4,30,000'\n",
      " '85,00,003' '4,01,919' '4,90,000' '4,24,000' '2,05,000' '5,49,900'\n",
      " '3,71,500' '4,35,000' '1,89,700' '3,89,700' '3,60,000' '2,95,000'\n",
      " '1,14,990' '10,65,000' '4,70,000' '48,000' '1,88,000' '4,65,000'\n",
      " '1,79,999' '21,90,000' '23,90,000' '10,75,000' '4,75,000' '10,25,000'\n",
      " '6,15,000' '19,00,000' '14,90,000' '15,10,000' '18,50,000' '7,90,000'\n",
      " '17,25,000' '12,25,000' '68,000' '9,70,000' '31,00,000' '8,99,000'\n",
      " '88,000' '53,000' '5,68,500' '71,000' '5,90,000' '7,95,000' '42,000'\n",
      " '1,89,000' '1,62,000' '35,999' '29,00,000' '39,999' '50,500' '5,10,000'\n",
      " '8,60,000' '5,00,001']\n",
      "kms_driven\n",
      "['45,000 kms' '40 kms' '22,000 kms' '28,000 kms' '36,000 kms' '59,000 kms'\n",
      " '41,000 kms' '25,000 kms' '24,530 kms' '60,000 kms' '30,000 kms'\n",
      " '32,000 kms' '48,660 kms' '4,000 kms' '16,934 kms' '43,000 kms'\n",
      " '35,550 kms' '39,522 kms' '39,000 kms' '55,000 kms' '72,000 kms'\n",
      " '15,975 kms' '70,000 kms' '23,452 kms' '35,522 kms' '48,508 kms'\n",
      " '15,487 kms' '82,000 kms' '20,000 kms' '68,000 kms' '38,000 kms'\n",
      " '27,000 kms' '33,000 kms' '46,000 kms' '16,000 kms' '47,000 kms'\n",
      " '35,000 kms' '30,874 kms' '15,000 kms' '29,685 kms' '1,30,000 kms'\n",
      " '19,000 kms' nan '54,000 kms' '13,000 kms' '38,200 kms' '50,000 kms'\n",
      " '13,500 kms' '3,600 kms' '45,863 kms' '60,500 kms' '12,500 kms'\n",
      " '18,000 kms' '13,349 kms' '29,000 kms' '44,000 kms' '42,000 kms'\n",
      " '14,000 kms' '49,000 kms' '36,200 kms' '51,000 kms' '1,04,000 kms'\n",
      " '33,333 kms' '33,600 kms' '5,600 kms' '7,500 kms' '26,000 kms'\n",
      " '24,330 kms' '65,480 kms' '28,028 kms' '2,00,000 kms' '99,000 kms'\n",
      " '2,800 kms' '21,000 kms' '11,000 kms' '66,000 kms' '3,000 kms'\n",
      " '7,000 kms' '38,500 kms' '37,200 kms' '43,200 kms' '24,800 kms'\n",
      " '45,872 kms' '40,000 kms' '11,400 kms' '97,200 kms' '52,000 kms'\n",
      " '31,000 kms' '1,75,430 kms' '37,000 kms' '65,000 kms' '3,350 kms'\n",
      " '75,000 kms' '62,000 kms' '73,000 kms' '2,200 kms' '54,870 kms'\n",
      " '34,580 kms' '97,000 kms' '60 kms' '80,200 kms' '3,200 kms' '0,000 kms'\n",
      " '5,000 kms' '588 kms' '71,200 kms' '1,75,400 kms' '9,300 kms'\n",
      " '56,758 kms' '10,000 kms' '56,450 kms' '56,000 kms' '32,700 kms'\n",
      " '9,000 kms' '73 kms' '1,60,000 kms' '84,000 kms' '58,559 kms'\n",
      " '57,000 kms' '1,70,000 kms' '80,000 kms' '6,821 kms' '23,000 kms'\n",
      " '34,000 kms' '1,800 kms' '4,00,000 kms' '48,000 kms' '90,000 kms'\n",
      " '12,000 kms' '69,900 kms' '1,66,000 kms' '122 kms' '0 kms' '24,000 kms'\n",
      " '36,469 kms' '7,800 kms' '24,695 kms' '15,141 kms' '59,910 kms'\n",
      " '1,00,000 kms' '4,500 kms' '1,29,000 kms' '300 kms' '1,31,000 kms'\n",
      " '1,11,111 kms' '59,466 kms' '25,500 kms' '44,005 kms' '2,110 kms'\n",
      " '43,222 kms' '1,00,200 kms' '65 kms' '1,40,000 kms' '1,03,553 kms'\n",
      " '58,000 kms' '1,20,000 kms' '49,800 kms' '100 kms' '81,876 kms'\n",
      " '6,020 kms' '55,700 kms' '18,500 kms' '1,80,000 kms' '53,000 kms'\n",
      " '35,500 kms' '22,134 kms' '1,000 kms' '8,500 kms' '87,000 kms'\n",
      " '6,000 kms' '15,574 kms' '8,000 kms' '55,800 kms' '56,400 kms'\n",
      " '72,160 kms' '11,500 kms' '1,33,000 kms' '2,000 kms' '88,000 kms'\n",
      " '65,422 kms' '1,17,000 kms' '1,50,000 kms' '10,750 kms' '6,800 kms'\n",
      " '5 kms' '9,800 kms' '57,923 kms' '30,201 kms' '6,200 kms' '37,518 kms'\n",
      " '24,652 kms' '383 kms' '95,000 kms' '3,528 kms' '52,500 kms' '47,900 kms'\n",
      " '52,800 kms' '1,95,000 kms' '48,008 kms' '48,247 kms' '9,400 kms'\n",
      " '64,000 kms' '2,137 kms' '10,544 kms' '49,500 kms' '1,47,000 kms'\n",
      " '90,001 kms' '48,006 kms' '74,000 kms' '85,000 kms' '29,500 kms'\n",
      " '39,700 kms' '67,000 kms' '19,336 kms' '60,105 kms' '45,933 kms'\n",
      " '1,02,563 kms' '28,600 kms' '41,800 kms' '1,16,000 kms' '42,590 kms'\n",
      " '7,400 kms' '54,500 kms' '76,000 kms' '00 kms' '11,523 kms' '38,600 kms'\n",
      " '95,500 kms' '37,458 kms' '85,960 kms' '12,516 kms' '30,600 kms'\n",
      " '2,550 kms' '62,500 kms' '69,000 kms' '28,400 kms' '68,485 kms'\n",
      " '3,500 kms' '85,455 kms' '63,000 kms' '1,600 kms' '77,000 kms'\n",
      " '26,500 kms' '2,875 kms' '13,900 kms' '1,500 kms' '2,450 kms' '1,625 kms'\n",
      " '33,400 kms' '60,123 kms' '38,900 kms' '1,37,495 kms' '91,200 kms'\n",
      " '1,46,000 kms' '1,00,800 kms' '2,100 kms' '2,500 kms' '1,32,000 kms'\n",
      " 'Petrol']\n",
      "fuel_type\n",
      "['Petrol' 'Diesel' nan 'LPG']\n"
     ]
    }
   ],
   "source": [
    "headers = data.columns\n",
    "\n",
    "for head in headers :\n",
    "    print(head)\n",
    "    print(data[head].unique())"
   ]
  },
  {
   "cell_type": "code",
   "execution_count": 241,
   "metadata": {},
   "outputs": [],
   "source": [
    "\n",
    "for index in range(0,892):\n",
    "    if(not data['year'][index].isnumeric()):\n",
    "        data.loc[index , 'year'] = 0\n",
    "        \n",
    "\n"
   ]
  },
  {
   "cell_type": "code",
   "execution_count": 242,
   "metadata": {},
   "outputs": [],
   "source": [
    "data['year'] = data['year'].astype(int)"
   ]
  },
  {
   "cell_type": "code",
   "execution_count": 243,
   "metadata": {},
   "outputs": [],
   "source": [
    "import numpy as np\n",
    "median = np.median(data['year'])    \n",
    "\n",
    "for index in range(0,892):\n",
    "    if(data.loc[index , 'year'] == 0):\n",
    "        data.loc[index , 'year'] = median\n",
    "        \n",
    "\n"
   ]
  },
  {
   "cell_type": "code",
   "execution_count": 244,
   "metadata": {},
   "outputs": [
    {
     "name": "stdout",
     "output_type": "stream",
     "text": [
      "0\n"
     ]
    }
   ],
   "source": [
    "counter = 0\n",
    "for val in data['year']:\n",
    "    if(val == 0):\n",
    "        counter = counter + 1\n",
    "\n",
    "print(counter)"
   ]
  },
  {
   "cell_type": "code",
   "execution_count": 245,
   "metadata": {},
   "outputs": [
    {
     "data": {
      "text/html": [
       "<div>\n",
       "<style scoped>\n",
       "    .dataframe tbody tr th:only-of-type {\n",
       "        vertical-align: middle;\n",
       "    }\n",
       "\n",
       "    .dataframe tbody tr th {\n",
       "        vertical-align: top;\n",
       "    }\n",
       "\n",
       "    .dataframe thead th {\n",
       "        text-align: right;\n",
       "    }\n",
       "</style>\n",
       "<table border=\"1\" class=\"dataframe\">\n",
       "  <thead>\n",
       "    <tr style=\"text-align: right;\">\n",
       "      <th></th>\n",
       "      <th>name</th>\n",
       "      <th>company</th>\n",
       "      <th>year</th>\n",
       "      <th>Price</th>\n",
       "      <th>kms_driven</th>\n",
       "      <th>fuel_type</th>\n",
       "    </tr>\n",
       "  </thead>\n",
       "  <tbody>\n",
       "    <tr>\n",
       "      <th>0</th>\n",
       "      <td>Hyundai Santro Xing XO eRLX Euro III</td>\n",
       "      <td>Hyundai</td>\n",
       "      <td>2007</td>\n",
       "      <td>80,000</td>\n",
       "      <td>45,000 kms</td>\n",
       "      <td>Petrol</td>\n",
       "    </tr>\n",
       "    <tr>\n",
       "      <th>1</th>\n",
       "      <td>Mahindra Jeep CL550 MDI</td>\n",
       "      <td>Mahindra</td>\n",
       "      <td>2006</td>\n",
       "      <td>4,25,000</td>\n",
       "      <td>40 kms</td>\n",
       "      <td>Diesel</td>\n",
       "    </tr>\n",
       "    <tr>\n",
       "      <th>2</th>\n",
       "      <td>Maruti Suzuki Alto 800 Vxi</td>\n",
       "      <td>Maruti</td>\n",
       "      <td>2018</td>\n",
       "      <td>Ask For Price</td>\n",
       "      <td>22,000 kms</td>\n",
       "      <td>Petrol</td>\n",
       "    </tr>\n",
       "    <tr>\n",
       "      <th>3</th>\n",
       "      <td>Hyundai Grand i10 Magna 1.2 Kappa VTVT</td>\n",
       "      <td>Hyundai</td>\n",
       "      <td>2014</td>\n",
       "      <td>3,25,000</td>\n",
       "      <td>28,000 kms</td>\n",
       "      <td>Petrol</td>\n",
       "    </tr>\n",
       "    <tr>\n",
       "      <th>4</th>\n",
       "      <td>Ford EcoSport Titanium 1.5L TDCi</td>\n",
       "      <td>Ford</td>\n",
       "      <td>2014</td>\n",
       "      <td>5,75,000</td>\n",
       "      <td>36,000 kms</td>\n",
       "      <td>Diesel</td>\n",
       "    </tr>\n",
       "  </tbody>\n",
       "</table>\n",
       "</div>"
      ],
      "text/plain": [
       "                                     name   company  year          Price  \\\n",
       "0    Hyundai Santro Xing XO eRLX Euro III   Hyundai  2007         80,000   \n",
       "1                 Mahindra Jeep CL550 MDI  Mahindra  2006       4,25,000   \n",
       "2              Maruti Suzuki Alto 800 Vxi    Maruti  2018  Ask For Price   \n",
       "3  Hyundai Grand i10 Magna 1.2 Kappa VTVT   Hyundai  2014       3,25,000   \n",
       "4        Ford EcoSport Titanium 1.5L TDCi      Ford  2014       5,75,000   \n",
       "\n",
       "   kms_driven fuel_type  \n",
       "0  45,000 kms    Petrol  \n",
       "1      40 kms    Diesel  \n",
       "2  22,000 kms    Petrol  \n",
       "3  28,000 kms    Petrol  \n",
       "4  36,000 kms    Diesel  "
      ]
     },
     "execution_count": 245,
     "metadata": {},
     "output_type": "execute_result"
    }
   ],
   "source": [
    "data.head()"
   ]
  },
  {
   "cell_type": "code",
   "execution_count": 246,
   "metadata": {},
   "outputs": [
    {
     "name": "stdout",
     "output_type": "stream",
     "text": [
      "<class 'pandas.core.frame.DataFrame'>\n",
      "RangeIndex: 892 entries, 0 to 891\n",
      "Data columns (total 6 columns):\n",
      " #   Column      Non-Null Count  Dtype \n",
      "---  ------      --------------  ----- \n",
      " 0   name        892 non-null    object\n",
      " 1   company     892 non-null    object\n",
      " 2   year        892 non-null    int32 \n",
      " 3   Price       892 non-null    object\n",
      " 4   kms_driven  840 non-null    object\n",
      " 5   fuel_type   837 non-null    object\n",
      "dtypes: int32(1), object(5)\n",
      "memory usage: 38.5+ KB\n"
     ]
    }
   ],
   "source": [
    "data.info()"
   ]
  },
  {
   "cell_type": "markdown",
   "metadata": {},
   "source": [
    "<font size = '10'>NOW LET'S DEAL WITH PREPROCESSING THE PRICE</font>\n",
    "\n"
   ]
  },
  {
   "cell_type": "code",
   "execution_count": 247,
   "metadata": {},
   "outputs": [
    {
     "data": {
      "text/plain": [
       "True"
      ]
     },
     "execution_count": 247,
     "metadata": {},
     "output_type": "execute_result"
    }
   ],
   "source": [
    "\n",
    "str = '12,0,00'\n",
    "str = str.replace(',', '')\n",
    "str.isnumeric()"
   ]
  },
  {
   "cell_type": "code",
   "execution_count": 248,
   "metadata": {},
   "outputs": [
    {
     "data": {
      "text/plain": [
       "892"
      ]
     },
     "execution_count": 248,
     "metadata": {},
     "output_type": "execute_result"
    }
   ],
   "source": [
    "len = data.shape[0] \n",
    "len"
   ]
  },
  {
   "cell_type": "code",
   "execution_count": 249,
   "metadata": {},
   "outputs": [],
   "source": [
    "for index in range(0,len):\n",
    "    data.loc[index , \"Price\"] = data.loc[index , \"Price\"].replace(',', '')\n"
   ]
  },
  {
   "cell_type": "code",
   "execution_count": 250,
   "metadata": {},
   "outputs": [
    {
     "name": "stdout",
     "output_type": "stream",
     "text": [
      "35\n"
     ]
    }
   ],
   "source": [
    "# mean = round(np.mean(data['Price']) , 0)?\n",
    "counter = 0\n",
    "for index in range(0,len):\n",
    "    if(data.loc[index , 'Price'] == \"Ask For Price\"):\n",
    "        data.loc[index , 'Price'] = '0'\n",
    "        # print(index)\n",
    "        counter = counter + 1\n",
    "\n",
    "print(counter)\n"
   ]
  },
  {
   "cell_type": "code",
   "execution_count": 251,
   "metadata": {},
   "outputs": [],
   "source": [
    "data['Price'] = data['Price'].astype(int)"
   ]
  },
  {
   "cell_type": "code",
   "execution_count": 252,
   "metadata": {},
   "outputs": [
    {
     "name": "stdout",
     "output_type": "stream",
     "text": [
      "388810.0\n"
     ]
    }
   ],
   "source": [
    "mean = round(np.mean(data['Price']) , 0)\n",
    "print(mean)\n",
    "\n",
    "for index in range(0,len):\n",
    "    if(data.loc[index , 'Price'] == 0):\n",
    "        data.loc[index , 'Price'] = mean\n",
    "\n"
   ]
  },
  {
   "cell_type": "code",
   "execution_count": 253,
   "metadata": {},
   "outputs": [
    {
     "name": "stdout",
     "output_type": "stream",
     "text": [
      "<class 'pandas.core.frame.DataFrame'>\n",
      "RangeIndex: 892 entries, 0 to 891\n",
      "Data columns (total 6 columns):\n",
      " #   Column      Non-Null Count  Dtype \n",
      "---  ------      --------------  ----- \n",
      " 0   name        892 non-null    object\n",
      " 1   company     892 non-null    object\n",
      " 2   year        892 non-null    int32 \n",
      " 3   Price       892 non-null    int32 \n",
      " 4   kms_driven  840 non-null    object\n",
      " 5   fuel_type   837 non-null    object\n",
      "dtypes: int32(2), object(4)\n",
      "memory usage: 35.0+ KB\n"
     ]
    }
   ],
   "source": [
    "data.info()"
   ]
  },
  {
   "cell_type": "markdown",
   "metadata": {},
   "source": [
    "<font size = '10'>NOW LET'S DEAL WITH PREPROCESSING THE KMS_DRIVEN</font>\n",
    "\n"
   ]
  },
  {
   "cell_type": "code",
   "execution_count": 254,
   "metadata": {},
   "outputs": [],
   "source": [
    "data['kms_driven'] = data['kms_driven'].dropna()\n"
   ]
  },
  {
   "cell_type": "code",
   "execution_count": 255,
   "metadata": {},
   "outputs": [
    {
     "data": {
      "text/plain": [
       "52"
      ]
     },
     "execution_count": 255,
     "metadata": {},
     "output_type": "execute_result"
    }
   ],
   "source": [
    "data['kms_driven'].isna().sum()"
   ]
  },
  {
   "cell_type": "code",
   "execution_count": 256,
   "metadata": {},
   "outputs": [],
   "source": [
    "for index in range(0,892):\n",
    "    if(data.loc[index , 'kms_driven']  == np.nan):\n",
    "        print(h)"
   ]
  },
  {
   "cell_type": "code",
   "execution_count": 260,
   "metadata": {},
   "outputs": [
    {
     "ename": "AttributeError",
     "evalue": "'float' object has no attribute 'replace'",
     "output_type": "error",
     "traceback": [
      "\u001b[1;31m---------------------------------------------------------------------------\u001b[0m",
      "\u001b[1;31mAttributeError\u001b[0m                            Traceback (most recent call last)",
      "Cell \u001b[1;32mIn[260], line 2\u001b[0m\n\u001b[0;32m      1\u001b[0m \u001b[38;5;28;01mfor\u001b[39;00m index \u001b[38;5;129;01min\u001b[39;00m \u001b[38;5;28mrange\u001b[39m(\u001b[38;5;241m0\u001b[39m,\u001b[38;5;28mlen\u001b[39m):\n\u001b[1;32m----> 2\u001b[0m     data\u001b[38;5;241m.\u001b[39mloc[index , \u001b[38;5;124m\"\u001b[39m\u001b[38;5;124mkms_driven\u001b[39m\u001b[38;5;124m\"\u001b[39m] \u001b[38;5;241m=\u001b[39m \u001b[43mdata\u001b[49m\u001b[38;5;241;43m.\u001b[39;49m\u001b[43mloc\u001b[49m\u001b[43m[\u001b[49m\u001b[43mindex\u001b[49m\u001b[43m \u001b[49m\u001b[43m,\u001b[49m\u001b[43m \u001b[49m\u001b[38;5;124;43m\"\u001b[39;49m\u001b[38;5;124;43mkms_driven\u001b[39;49m\u001b[38;5;124;43m\"\u001b[39;49m\u001b[43m]\u001b[49m\u001b[38;5;241;43m.\u001b[39;49m\u001b[43mreplace\u001b[49m(\u001b[38;5;124m'\u001b[39m\u001b[38;5;124m,\u001b[39m\u001b[38;5;124m'\u001b[39m, \u001b[38;5;124m'\u001b[39m\u001b[38;5;124m'\u001b[39m)\n",
      "\u001b[1;31mAttributeError\u001b[0m: 'float' object has no attribute 'replace'"
     ]
    }
   ],
   "source": [
    "for index in range(0,len):\n",
    "    data.loc[index , \"kms_driven\"] = data.loc[index , \"kms_driven\"].replace(',', '')\n"
   ]
  },
  {
   "cell_type": "code",
   "execution_count": 263,
   "metadata": {},
   "outputs": [
    {
     "ename": "AttributeError",
     "evalue": "'float' object has no attribute 'replace'",
     "output_type": "error",
     "traceback": [
      "\u001b[1;31m---------------------------------------------------------------------------\u001b[0m",
      "\u001b[1;31mAttributeError\u001b[0m                            Traceback (most recent call last)",
      "Cell \u001b[1;32mIn[263], line 2\u001b[0m\n\u001b[0;32m      1\u001b[0m \u001b[38;5;28;01mfor\u001b[39;00m index \u001b[38;5;129;01min\u001b[39;00m \u001b[38;5;28mrange\u001b[39m(\u001b[38;5;241m0\u001b[39m,\u001b[38;5;28mlen\u001b[39m):\n\u001b[1;32m----> 2\u001b[0m         data\u001b[38;5;241m.\u001b[39mloc[index , \u001b[38;5;124m\"\u001b[39m\u001b[38;5;124mkms_driven\u001b[39m\u001b[38;5;124m\"\u001b[39m] \u001b[38;5;241m=\u001b[39m \u001b[43mdata\u001b[49m\u001b[38;5;241;43m.\u001b[39;49m\u001b[43mloc\u001b[49m\u001b[43m[\u001b[49m\u001b[43mindex\u001b[49m\u001b[43m \u001b[49m\u001b[43m,\u001b[49m\u001b[43m \u001b[49m\u001b[38;5;124;43m\"\u001b[39;49m\u001b[38;5;124;43mkms_driven\u001b[39;49m\u001b[38;5;124;43m\"\u001b[39;49m\u001b[43m]\u001b[49m\u001b[38;5;241;43m.\u001b[39;49m\u001b[43mreplace\u001b[49m(\u001b[38;5;124m'\u001b[39m\u001b[38;5;124mkms\u001b[39m\u001b[38;5;124m'\u001b[39m, \u001b[38;5;124m'\u001b[39m\u001b[38;5;124m'\u001b[39m)\n",
      "\u001b[1;31mAttributeError\u001b[0m: 'float' object has no attribute 'replace'"
     ]
    }
   ],
   "source": [
    "for index in range(0,len):\n",
    "        data.loc[index , \"kms_driven\"] = data.loc[index , \"kms_driven\"].replace('kms', '')"
   ]
  },
  {
   "cell_type": "code",
   "execution_count": 266,
   "metadata": {},
   "outputs": [
    {
     "data": {
      "text/plain": [
       "array(['45000 ', '40 ', '22000 ', '28000 ', '36000 ', '59000 ', '41000 ',\n",
       "       '25000 ', '24530 ', '60000 ', '30000 ', '32000 ', '48660 ',\n",
       "       '4000 ', '16934 ', '43000 ', '35550 ', '39522 ', '39000 ',\n",
       "       '55000 ', '72000 ', '15975 ', '70000 ', '23452 ', '35522 ',\n",
       "       '48508 ', '15487 ', '82000 ', '20000 ', '68000 ', '38000 ',\n",
       "       '27000 ', '33000 ', '46000 ', '16000 ', '47000 ', '35000 ',\n",
       "       '30874 ', '15000 ', '29685 ', '130000 ', '19000 ', nan,\n",
       "       '41,000 kms', '35,000 kms', '54,000 kms', '13,000 kms',\n",
       "       '16,000 kms', '38,200 kms', '22,000 kms', '50,000 kms',\n",
       "       '13,500 kms', '30,000 kms', '20,000 kms', '39,000 kms',\n",
       "       '3,600 kms', '32,000 kms', '38,000 kms', '45,000 kms',\n",
       "       '45,863 kms', '60,500 kms', '12,500 kms', '60,000 kms',\n",
       "       '18,000 kms', '13,349 kms', '29,000 kms', '44,000 kms',\n",
       "       '42,000 kms', '14,000 kms', '49,000 kms', '36,200 kms',\n",
       "       '55,000 kms', '51,000 kms', '19,000 kms', '46,000 kms',\n",
       "       '33,000 kms', '1,04,000 kms', '33,333 kms', '33,600 kms',\n",
       "       '5,600 kms', '70,000 kms', '7,500 kms', '26,000 kms', '24,330 kms',\n",
       "       '65,480 kms', '28,028 kms', '2,00,000 kms', '59,000 kms',\n",
       "       '99,000 kms', '2,800 kms', '21,000 kms', '11,000 kms',\n",
       "       '66,000 kms', '3,000 kms', '7,000 kms', '38,500 kms', '37,200 kms',\n",
       "       '43,200 kms', '24,800 kms', '45,872 kms', '40,000 kms',\n",
       "       '11,400 kms', '47,000 kms', '27,000 kms', '97,200 kms',\n",
       "       '52,000 kms', '31,000 kms', '1,75,430 kms', '37,000 kms',\n",
       "       '65,000 kms', '3,350 kms', '75,000 kms', '62,000 kms',\n",
       "       '73,000 kms', '2,200 kms', '54,870 kms', '34,580 kms',\n",
       "       '97,000 kms', '25,000 kms', '60 kms', '80,200 kms', '3,200 kms',\n",
       "       '0,000 kms', '5,000 kms', '588 kms', '36,000 kms', '71,200 kms',\n",
       "       '1,75,400 kms', '9,300 kms', '15,000 kms', '56,758 kms',\n",
       "       '10,000 kms', '43,000 kms', '56,450 kms', '56,000 kms',\n",
       "       '32,700 kms', '9,000 kms', '73 kms', '1,60,000 kms', '84,000 kms',\n",
       "       '58,559 kms', '57,000 kms', '1,70,000 kms', '80,000 kms',\n",
       "       '68,000 kms', '72,000 kms', '6,821 kms', '23,000 kms',\n",
       "       '34,000 kms', '1,800 kms', '4,00,000 kms', '48,000 kms',\n",
       "       '90,000 kms', '12,000 kms', '69,900 kms', '1,66,000 kms',\n",
       "       '122 kms', '0 kms', '24,000 kms', '36,469 kms', '7,800 kms',\n",
       "       '24,695 kms', '15,141 kms', '59,910 kms', '1,00,000 kms',\n",
       "       '4,500 kms', '1,29,000 kms', '300 kms', '1,31,000 kms',\n",
       "       '1,11,111 kms', '59,466 kms', '25,500 kms', '44,005 kms',\n",
       "       '28,000 kms', '4,000 kms', '2,110 kms', '43,222 kms',\n",
       "       '1,00,200 kms', '65 kms', '1,40,000 kms', '1,03,553 kms',\n",
       "       '58,000 kms', '1,20,000 kms', '49,800 kms', '100 kms',\n",
       "       '81,876 kms', '6,020 kms', '55,700 kms', '18,500 kms',\n",
       "       '1,80,000 kms', '53,000 kms', '35,500 kms', '22,134 kms',\n",
       "       '1,000 kms', '8,500 kms', '87,000 kms', '6,000 kms', '15,574 kms',\n",
       "       '8,000 kms', '55,800 kms', '56,400 kms', '72,160 kms',\n",
       "       '11,500 kms', '1,33,000 kms', '2,000 kms', '88,000 kms',\n",
       "       '65,422 kms', '1,17,000 kms', '1,50,000 kms', '10,750 kms',\n",
       "       '6,800 kms', '5 kms', '9,800 kms', '57,923 kms', '30,201 kms',\n",
       "       '6,200 kms', '37,518 kms', '24,652 kms', '383 kms', '95,000 kms',\n",
       "       '3,528 kms', '52,500 kms', '47,900 kms', '52,800 kms',\n",
       "       '1,95,000 kms', '48,008 kms', '48,247 kms', '9,400 kms',\n",
       "       '64,000 kms', '2,137 kms', '10,544 kms', '49,500 kms',\n",
       "       '1,47,000 kms', '90,001 kms', '48,006 kms', '74,000 kms',\n",
       "       '85,000 kms', '29,500 kms', '39,700 kms', '67,000 kms',\n",
       "       '19,336 kms', '60,105 kms', '45,933 kms', '1,02,563 kms',\n",
       "       '28,600 kms', '41,800 kms', '1,16,000 kms', '42,590 kms',\n",
       "       '7,400 kms', '54,500 kms', '76,000 kms', '00 kms', '11,523 kms',\n",
       "       '38,600 kms', '95,500 kms', '37,458 kms', '85,960 kms',\n",
       "       '12,516 kms', '30,600 kms', '2,550 kms', '62,500 kms',\n",
       "       '69,000 kms', '28,400 kms', '68,485 kms', '3,500 kms',\n",
       "       '85,455 kms', '63,000 kms', '1,600 kms', '77,000 kms',\n",
       "       '26,500 kms', '2,875 kms', '13,900 kms', '1,500 kms', '2,450 kms',\n",
       "       '1,625 kms', '33,400 kms', '60,123 kms', '38,900 kms',\n",
       "       '1,37,495 kms', '91,200 kms', '1,46,000 kms', '1,00,800 kms',\n",
       "       '2,100 kms', '2,500 kms', '1,32,000 kms', 'Petrol'], dtype=object)"
      ]
     },
     "execution_count": 266,
     "metadata": {},
     "output_type": "execute_result"
    }
   ],
   "source": [
    "data['kms_driven'].unique()"
   ]
  },
  {
   "cell_type": "code",
   "execution_count": null,
   "metadata": {},
   "outputs": [
    {
     "ename": "ValueError",
     "evalue": "cannot convert float NaN to integer",
     "output_type": "error",
     "traceback": [
      "\u001b[1;31m---------------------------------------------------------------------------\u001b[0m",
      "\u001b[1;31mValueError\u001b[0m                                Traceback (most recent call last)",
      "Cell \u001b[1;32mIn[232], line 1\u001b[0m\n\u001b[1;32m----> 1\u001b[0m data[\u001b[38;5;124m'\u001b[39m\u001b[38;5;124mkms_driven\u001b[39m\u001b[38;5;124m'\u001b[39m] \u001b[38;5;241m=\u001b[39m \u001b[43mdata\u001b[49m\u001b[43m[\u001b[49m\u001b[38;5;124;43m'\u001b[39;49m\u001b[38;5;124;43mkms_driven\u001b[39;49m\u001b[38;5;124;43m'\u001b[39;49m\u001b[43m]\u001b[49m\u001b[38;5;241;43m.\u001b[39;49m\u001b[43mastype\u001b[49m\u001b[43m(\u001b[49m\u001b[38;5;28;43mint\u001b[39;49m\u001b[43m)\u001b[49m\n",
      "File \u001b[1;32mc:\\Users\\Sahil Chalke\\anaconda3\\envs\\myenv\\lib\\site-packages\\pandas\\core\\generic.py:6637\u001b[0m, in \u001b[0;36mNDFrame.astype\u001b[1;34m(self, dtype, copy, errors)\u001b[0m\n\u001b[0;32m   6631\u001b[0m     results \u001b[38;5;241m=\u001b[39m [\n\u001b[0;32m   6632\u001b[0m         ser\u001b[38;5;241m.\u001b[39mastype(dtype, copy\u001b[38;5;241m=\u001b[39mcopy, errors\u001b[38;5;241m=\u001b[39merrors) \u001b[38;5;28;01mfor\u001b[39;00m _, ser \u001b[38;5;129;01min\u001b[39;00m \u001b[38;5;28mself\u001b[39m\u001b[38;5;241m.\u001b[39mitems()\n\u001b[0;32m   6633\u001b[0m     ]\n\u001b[0;32m   6635\u001b[0m \u001b[38;5;28;01melse\u001b[39;00m:\n\u001b[0;32m   6636\u001b[0m     \u001b[38;5;66;03m# else, only a single dtype is given\u001b[39;00m\n\u001b[1;32m-> 6637\u001b[0m     new_data \u001b[38;5;241m=\u001b[39m \u001b[38;5;28;43mself\u001b[39;49m\u001b[38;5;241;43m.\u001b[39;49m\u001b[43m_mgr\u001b[49m\u001b[38;5;241;43m.\u001b[39;49m\u001b[43mastype\u001b[49m\u001b[43m(\u001b[49m\u001b[43mdtype\u001b[49m\u001b[38;5;241;43m=\u001b[39;49m\u001b[43mdtype\u001b[49m\u001b[43m,\u001b[49m\u001b[43m \u001b[49m\u001b[43mcopy\u001b[49m\u001b[38;5;241;43m=\u001b[39;49m\u001b[43mcopy\u001b[49m\u001b[43m,\u001b[49m\u001b[43m \u001b[49m\u001b[43merrors\u001b[49m\u001b[38;5;241;43m=\u001b[39;49m\u001b[43merrors\u001b[49m\u001b[43m)\u001b[49m\n\u001b[0;32m   6638\u001b[0m     res \u001b[38;5;241m=\u001b[39m \u001b[38;5;28mself\u001b[39m\u001b[38;5;241m.\u001b[39m_constructor_from_mgr(new_data, axes\u001b[38;5;241m=\u001b[39mnew_data\u001b[38;5;241m.\u001b[39maxes)\n\u001b[0;32m   6639\u001b[0m     \u001b[38;5;28;01mreturn\u001b[39;00m res\u001b[38;5;241m.\u001b[39m__finalize__(\u001b[38;5;28mself\u001b[39m, method\u001b[38;5;241m=\u001b[39m\u001b[38;5;124m\"\u001b[39m\u001b[38;5;124mastype\u001b[39m\u001b[38;5;124m\"\u001b[39m)\n",
      "File \u001b[1;32mc:\\Users\\Sahil Chalke\\anaconda3\\envs\\myenv\\lib\\site-packages\\pandas\\core\\internals\\managers.py:431\u001b[0m, in \u001b[0;36mBaseBlockManager.astype\u001b[1;34m(self, dtype, copy, errors)\u001b[0m\n\u001b[0;32m    428\u001b[0m \u001b[38;5;28;01melif\u001b[39;00m using_copy_on_write():\n\u001b[0;32m    429\u001b[0m     copy \u001b[38;5;241m=\u001b[39m \u001b[38;5;28;01mFalse\u001b[39;00m\n\u001b[1;32m--> 431\u001b[0m \u001b[38;5;28;01mreturn\u001b[39;00m \u001b[38;5;28;43mself\u001b[39;49m\u001b[38;5;241;43m.\u001b[39;49m\u001b[43mapply\u001b[49m\u001b[43m(\u001b[49m\n\u001b[0;32m    432\u001b[0m \u001b[43m    \u001b[49m\u001b[38;5;124;43m\"\u001b[39;49m\u001b[38;5;124;43mastype\u001b[39;49m\u001b[38;5;124;43m\"\u001b[39;49m\u001b[43m,\u001b[49m\n\u001b[0;32m    433\u001b[0m \u001b[43m    \u001b[49m\u001b[43mdtype\u001b[49m\u001b[38;5;241;43m=\u001b[39;49m\u001b[43mdtype\u001b[49m\u001b[43m,\u001b[49m\n\u001b[0;32m    434\u001b[0m \u001b[43m    \u001b[49m\u001b[43mcopy\u001b[49m\u001b[38;5;241;43m=\u001b[39;49m\u001b[43mcopy\u001b[49m\u001b[43m,\u001b[49m\n\u001b[0;32m    435\u001b[0m \u001b[43m    \u001b[49m\u001b[43merrors\u001b[49m\u001b[38;5;241;43m=\u001b[39;49m\u001b[43merrors\u001b[49m\u001b[43m,\u001b[49m\n\u001b[0;32m    436\u001b[0m \u001b[43m    \u001b[49m\u001b[43musing_cow\u001b[49m\u001b[38;5;241;43m=\u001b[39;49m\u001b[43musing_copy_on_write\u001b[49m\u001b[43m(\u001b[49m\u001b[43m)\u001b[49m\u001b[43m,\u001b[49m\n\u001b[0;32m    437\u001b[0m \u001b[43m\u001b[49m\u001b[43m)\u001b[49m\n",
      "File \u001b[1;32mc:\\Users\\Sahil Chalke\\anaconda3\\envs\\myenv\\lib\\site-packages\\pandas\\core\\internals\\managers.py:364\u001b[0m, in \u001b[0;36mBaseBlockManager.apply\u001b[1;34m(self, f, align_keys, **kwargs)\u001b[0m\n\u001b[0;32m    362\u001b[0m         applied \u001b[38;5;241m=\u001b[39m b\u001b[38;5;241m.\u001b[39mapply(f, \u001b[38;5;241m*\u001b[39m\u001b[38;5;241m*\u001b[39mkwargs)\n\u001b[0;32m    363\u001b[0m     \u001b[38;5;28;01melse\u001b[39;00m:\n\u001b[1;32m--> 364\u001b[0m         applied \u001b[38;5;241m=\u001b[39m \u001b[38;5;28mgetattr\u001b[39m(b, f)(\u001b[38;5;241m*\u001b[39m\u001b[38;5;241m*\u001b[39mkwargs)\n\u001b[0;32m    365\u001b[0m     result_blocks \u001b[38;5;241m=\u001b[39m extend_blocks(applied, result_blocks)\n\u001b[0;32m    367\u001b[0m out \u001b[38;5;241m=\u001b[39m \u001b[38;5;28mtype\u001b[39m(\u001b[38;5;28mself\u001b[39m)\u001b[38;5;241m.\u001b[39mfrom_blocks(result_blocks, \u001b[38;5;28mself\u001b[39m\u001b[38;5;241m.\u001b[39maxes)\n",
      "File \u001b[1;32mc:\\Users\\Sahil Chalke\\anaconda3\\envs\\myenv\\lib\\site-packages\\pandas\\core\\internals\\blocks.py:758\u001b[0m, in \u001b[0;36mBlock.astype\u001b[1;34m(self, dtype, copy, errors, using_cow, squeeze)\u001b[0m\n\u001b[0;32m    755\u001b[0m         \u001b[38;5;28;01mraise\u001b[39;00m \u001b[38;5;167;01mValueError\u001b[39;00m(\u001b[38;5;124m\"\u001b[39m\u001b[38;5;124mCan not squeeze with more than one column.\u001b[39m\u001b[38;5;124m\"\u001b[39m)\n\u001b[0;32m    756\u001b[0m     values \u001b[38;5;241m=\u001b[39m values[\u001b[38;5;241m0\u001b[39m, :]  \u001b[38;5;66;03m# type: ignore[call-overload]\u001b[39;00m\n\u001b[1;32m--> 758\u001b[0m new_values \u001b[38;5;241m=\u001b[39m \u001b[43mastype_array_safe\u001b[49m\u001b[43m(\u001b[49m\u001b[43mvalues\u001b[49m\u001b[43m,\u001b[49m\u001b[43m \u001b[49m\u001b[43mdtype\u001b[49m\u001b[43m,\u001b[49m\u001b[43m \u001b[49m\u001b[43mcopy\u001b[49m\u001b[38;5;241;43m=\u001b[39;49m\u001b[43mcopy\u001b[49m\u001b[43m,\u001b[49m\u001b[43m \u001b[49m\u001b[43merrors\u001b[49m\u001b[38;5;241;43m=\u001b[39;49m\u001b[43merrors\u001b[49m\u001b[43m)\u001b[49m\n\u001b[0;32m    760\u001b[0m new_values \u001b[38;5;241m=\u001b[39m maybe_coerce_values(new_values)\n\u001b[0;32m    762\u001b[0m refs \u001b[38;5;241m=\u001b[39m \u001b[38;5;28;01mNone\u001b[39;00m\n",
      "File \u001b[1;32mc:\\Users\\Sahil Chalke\\anaconda3\\envs\\myenv\\lib\\site-packages\\pandas\\core\\dtypes\\astype.py:237\u001b[0m, in \u001b[0;36mastype_array_safe\u001b[1;34m(values, dtype, copy, errors)\u001b[0m\n\u001b[0;32m    234\u001b[0m     dtype \u001b[38;5;241m=\u001b[39m dtype\u001b[38;5;241m.\u001b[39mnumpy_dtype\n\u001b[0;32m    236\u001b[0m \u001b[38;5;28;01mtry\u001b[39;00m:\n\u001b[1;32m--> 237\u001b[0m     new_values \u001b[38;5;241m=\u001b[39m \u001b[43mastype_array\u001b[49m\u001b[43m(\u001b[49m\u001b[43mvalues\u001b[49m\u001b[43m,\u001b[49m\u001b[43m \u001b[49m\u001b[43mdtype\u001b[49m\u001b[43m,\u001b[49m\u001b[43m \u001b[49m\u001b[43mcopy\u001b[49m\u001b[38;5;241;43m=\u001b[39;49m\u001b[43mcopy\u001b[49m\u001b[43m)\u001b[49m\n\u001b[0;32m    238\u001b[0m \u001b[38;5;28;01mexcept\u001b[39;00m (\u001b[38;5;167;01mValueError\u001b[39;00m, \u001b[38;5;167;01mTypeError\u001b[39;00m):\n\u001b[0;32m    239\u001b[0m     \u001b[38;5;66;03m# e.g. _astype_nansafe can fail on object-dtype of strings\u001b[39;00m\n\u001b[0;32m    240\u001b[0m     \u001b[38;5;66;03m#  trying to convert to float\u001b[39;00m\n\u001b[0;32m    241\u001b[0m     \u001b[38;5;28;01mif\u001b[39;00m errors \u001b[38;5;241m==\u001b[39m \u001b[38;5;124m\"\u001b[39m\u001b[38;5;124mignore\u001b[39m\u001b[38;5;124m\"\u001b[39m:\n",
      "File \u001b[1;32mc:\\Users\\Sahil Chalke\\anaconda3\\envs\\myenv\\lib\\site-packages\\pandas\\core\\dtypes\\astype.py:182\u001b[0m, in \u001b[0;36mastype_array\u001b[1;34m(values, dtype, copy)\u001b[0m\n\u001b[0;32m    179\u001b[0m     values \u001b[38;5;241m=\u001b[39m values\u001b[38;5;241m.\u001b[39mastype(dtype, copy\u001b[38;5;241m=\u001b[39mcopy)\n\u001b[0;32m    181\u001b[0m \u001b[38;5;28;01melse\u001b[39;00m:\n\u001b[1;32m--> 182\u001b[0m     values \u001b[38;5;241m=\u001b[39m \u001b[43m_astype_nansafe\u001b[49m\u001b[43m(\u001b[49m\u001b[43mvalues\u001b[49m\u001b[43m,\u001b[49m\u001b[43m \u001b[49m\u001b[43mdtype\u001b[49m\u001b[43m,\u001b[49m\u001b[43m \u001b[49m\u001b[43mcopy\u001b[49m\u001b[38;5;241;43m=\u001b[39;49m\u001b[43mcopy\u001b[49m\u001b[43m)\u001b[49m\n\u001b[0;32m    184\u001b[0m \u001b[38;5;66;03m# in pandas we don't store numpy str dtypes, so convert to object\u001b[39;00m\n\u001b[0;32m    185\u001b[0m \u001b[38;5;28;01mif\u001b[39;00m \u001b[38;5;28misinstance\u001b[39m(dtype, np\u001b[38;5;241m.\u001b[39mdtype) \u001b[38;5;129;01mand\u001b[39;00m \u001b[38;5;28missubclass\u001b[39m(values\u001b[38;5;241m.\u001b[39mdtype\u001b[38;5;241m.\u001b[39mtype, \u001b[38;5;28mstr\u001b[39m):\n",
      "File \u001b[1;32mc:\\Users\\Sahil Chalke\\anaconda3\\envs\\myenv\\lib\\site-packages\\pandas\\core\\dtypes\\astype.py:133\u001b[0m, in \u001b[0;36m_astype_nansafe\u001b[1;34m(arr, dtype, copy, skipna)\u001b[0m\n\u001b[0;32m    129\u001b[0m     \u001b[38;5;28;01mraise\u001b[39;00m \u001b[38;5;167;01mValueError\u001b[39;00m(msg)\n\u001b[0;32m    131\u001b[0m \u001b[38;5;28;01mif\u001b[39;00m copy \u001b[38;5;129;01mor\u001b[39;00m arr\u001b[38;5;241m.\u001b[39mdtype \u001b[38;5;241m==\u001b[39m \u001b[38;5;28mobject\u001b[39m \u001b[38;5;129;01mor\u001b[39;00m dtype \u001b[38;5;241m==\u001b[39m \u001b[38;5;28mobject\u001b[39m:\n\u001b[0;32m    132\u001b[0m     \u001b[38;5;66;03m# Explicit copy, or required since NumPy can't view from / to object.\u001b[39;00m\n\u001b[1;32m--> 133\u001b[0m     \u001b[38;5;28;01mreturn\u001b[39;00m \u001b[43marr\u001b[49m\u001b[38;5;241;43m.\u001b[39;49m\u001b[43mastype\u001b[49m\u001b[43m(\u001b[49m\u001b[43mdtype\u001b[49m\u001b[43m,\u001b[49m\u001b[43m \u001b[49m\u001b[43mcopy\u001b[49m\u001b[38;5;241;43m=\u001b[39;49m\u001b[38;5;28;43;01mTrue\u001b[39;49;00m\u001b[43m)\u001b[49m\n\u001b[0;32m    135\u001b[0m \u001b[38;5;28;01mreturn\u001b[39;00m arr\u001b[38;5;241m.\u001b[39mastype(dtype, copy\u001b[38;5;241m=\u001b[39mcopy)\n",
      "\u001b[1;31mValueError\u001b[0m: cannot convert float NaN to integer"
     ]
    }
   ],
   "source": [
    "data['kms_driven'] = data['kms_driven'].astype(int)"
   ]
  }
 ],
 "metadata": {
  "kernelspec": {
   "display_name": "myenv",
   "language": "python",
   "name": "python3"
  },
  "language_info": {
   "codemirror_mode": {
    "name": "ipython",
    "version": 3
   },
   "file_extension": ".py",
   "mimetype": "text/x-python",
   "name": "python",
   "nbconvert_exporter": "python",
   "pygments_lexer": "ipython3",
   "version": "3.10.0"
  }
 },
 "nbformat": 4,
 "nbformat_minor": 2
}
